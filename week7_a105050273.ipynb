{
  "nbformat": 4,
  "nbformat_minor": 0,
  "metadata": {
    "colab": {
      "name": "week7_a105050273.ipynb",
      "provenance": []
    },
    "kernelspec": {
      "name": "python3",
      "display_name": "Python 3"
    }
  },
  "cells": [
    {
      "cell_type": "code",
      "metadata": {
        "id": "b--tDyoNyi_e",
        "colab_type": "code",
        "colab": {
          "base_uri": "https://localhost:8080/",
          "height": 34
        },
        "outputId": "c129e6bb-0a90-4d02-fd19-6871e0316ceb"
      },
      "source": [
        "drama_title=\"梨泰院class\" #韓劇名稱\n",
        "print(drama_title)\n"
      ],
      "execution_count": 1,
      "outputs": [
        {
          "output_type": "stream",
          "text": [
            "梨泰院class\n"
          ],
          "name": "stdout"
        }
      ]
    },
    {
      "cell_type": "code",
      "metadata": {
        "id": "1BYdCeDLy3d0",
        "colab_type": "code",
        "colab": {
          "base_uri": "https://localhost:8080/",
          "height": 34
        },
        "outputId": "0a8aa875-1593-4ef6-eef4-4616c4a0ebb1"
      },
      "source": [
        "release_year=\"2020\" #播出日期\n",
        "print(release_year)"
      ],
      "execution_count": 2,
      "outputs": [
        {
          "output_type": "stream",
          "text": [
            "2020\n"
          ],
          "name": "stdout"
        }
      ]
    },
    {
      "cell_type": "code",
      "metadata": {
        "id": "mlk_8_gvy7OW",
        "colab_type": "code",
        "colab": {
          "base_uri": "https://localhost:8080/",
          "height": 34
        },
        "outputId": "b9f33190-b780-467d-e374-1cf9eaa5a6d9"
      },
      "source": [
        "drama_episode=\"16\" #集數\n",
        "print(drama_episode)"
      ],
      "execution_count": 3,
      "outputs": [
        {
          "output_type": "stream",
          "text": [
            "16\n"
          ],
          "name": "stdout"
        }
      ]
    },
    {
      "cell_type": "code",
      "metadata": {
        "id": "sPF2Gd_3y9QA",
        "colab_type": "code",
        "colab": {
          "base_uri": "https://localhost:8080/",
          "height": 34
        },
        "outputId": "8fe3b8f7-91b0-4535-bc9f-f9a5eaf8c8c5"
      },
      "source": [
        "country_of_origin=\"korea\" #製作國家\n",
        "print(country_of_origin)"
      ],
      "execution_count": 4,
      "outputs": [
        {
          "output_type": "stream",
          "text": [
            "korea\n"
          ],
          "name": "stdout"
        }
      ]
    },
    {
      "cell_type": "code",
      "metadata": {
        "id": "30ensP2Dy_Ow",
        "colab_type": "code",
        "colab": {
          "base_uri": "https://localhost:8080/",
          "height": 34
        },
        "outputId": "f548b737-8dff-4170-9cbd-ee329c4b07d2"
      },
      "source": [
        "director=\"金成允\" #導演\n",
        "print(director)"
      ],
      "execution_count": 5,
      "outputs": [
        {
          "output_type": "stream",
          "text": [
            "金成允\n"
          ],
          "name": "stdout"
        }
      ]
    },
    {
      "cell_type": "code",
      "metadata": {
        "id": "gn4ojNyezBi8",
        "colab_type": "code",
        "colab": {
          "base_uri": "https://localhost:8080/",
          "height": 34
        },
        "outputId": "a388bfd5-ac05-458f-d31f-ad288d6b1dba"
      },
      "source": [
        "stars_1=\"朴敘俊\" #男主角\n",
        "print(stars_1)"
      ],
      "execution_count": 6,
      "outputs": [
        {
          "output_type": "stream",
          "text": [
            "朴敘俊\n"
          ],
          "name": "stdout"
        }
      ]
    },
    {
      "cell_type": "code",
      "metadata": {
        "id": "SQ7hRVpizDx0",
        "colab_type": "code",
        "colab": {
          "base_uri": "https://localhost:8080/",
          "height": 34
        },
        "outputId": "e2d762ac-39df-4420-dea0-8b190ad11362"
      },
      "source": [
        "stars_2=\"金多美\" #女主角\n",
        "print(stars_2)"
      ],
      "execution_count": 7,
      "outputs": [
        {
          "output_type": "stream",
          "text": [
            "金多美\n"
          ],
          "name": "stdout"
        }
      ]
    }
  ]
}