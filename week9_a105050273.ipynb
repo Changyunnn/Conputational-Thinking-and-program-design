{
  "nbformat": 4,
  "nbformat_minor": 0,
  "metadata": {
    "colab": {
      "name": "week9_a105050273.ipynb",
      "provenance": []
    },
    "kernelspec": {
      "name": "python3",
      "display_name": "Python 3"
    }
  },
  "cells": [
    {
      "cell_type": "code",
      "metadata": {
        "id": "HlYGmItC2Als",
        "colab_type": "code",
        "colab": {
          "base_uri": "https://localhost:8080/",
          "height": 51
        },
        "outputId": "2778266d-c831-4cf8-c860-516b69c91492"
      },
      "source": [
        "半徑 = float(input('請輸入半徑?'))\n",
        "PI = 3.14159\n",
        "\n",
        "圓周長 = 2 * PI * 半徑\n",
        "圓面積 = 半徑 * 半徑 * PI\n",
        "\n",
        "print('圓周長為', 圓周長, '圓面積為', 圓面積)"
      ],
      "execution_count": 1,
      "outputs": [
        {
          "output_type": "stream",
          "text": [
            "請輸入半徑?15\n",
            "圓周長為 94.2477 圓面積為 706.85775\n"
          ],
          "name": "stdout"
        }
      ]
    },
    {
      "cell_type": "code",
      "metadata": {
        "id": "zlDIq95E2E8j",
        "colab_type": "code",
        "colab": {
          "base_uri": "https://localhost:8080/",
          "height": 68
        },
        "outputId": "75e73861-d116-4ade-f07f-87389fbf4cd8"
      },
      "source": [
        "c = float(input('請輸入攝氏溫度？'))\n",
        "f = c * 9/5 + 32 #f為華氏溫度\n",
        "print('華氏溫度為', f)\n",
        "\n",
        "# 延伸1：華氏轉攝氏\n",
        "c1 = (f - 32) * (5/9)\n",
        "print(\"攝氏溫度\", c1)"
      ],
      "execution_count": 2,
      "outputs": [
        {
          "output_type": "stream",
          "text": [
            "請輸入攝氏溫度？88\n",
            "華氏溫度為 190.4\n",
            "攝氏溫度 88.0\n"
          ],
          "name": "stdout"
        }
      ]
    },
    {
      "cell_type": "code",
      "metadata": {
        "id": "O_ZXipEr2He6",
        "colab_type": "code",
        "colab": {
          "base_uri": "https://localhost:8080/",
          "height": 85
        },
        "outputId": "ddb5af0c-184f-417e-b72f-6cfee4712291"
      },
      "source": [
        "A = int(input('請輸入上衣數量？'))\n",
        "B = int(input('請輸入褲子數量？'))\n",
        "C = int(input('請輸入背心數量？'))\n",
        "\n",
        "總金額 = A*300 + B*350 + C*400\n",
        "print('訂購服裝的總金額為', 總金額)\n"
      ],
      "execution_count": 4,
      "outputs": [
        {
          "output_type": "stream",
          "text": [
            "請輸入上衣數量？6\n",
            "請輸入褲子數量？7\n",
            "請輸入背心數量？8\n",
            "訂購服裝的總金額為 7450\n"
          ],
          "name": "stdout"
        }
      ]
    },
    {
      "cell_type": "code",
      "metadata": {
        "id": "clc2ccQz2MMr",
        "colab_type": "code",
        "colab": {
          "base_uri": "https://localhost:8080/",
          "height": 51
        },
        "outputId": "4ba7eebb-298d-4256-b54b-7a4088ee09f3"
      },
      "source": [
        "a = int(input(\"請輸入購買罐數?\"))\n",
        "一打 =(a//12)\n",
        "不足一打 =(a % 12)\n",
        "總金額 =(一打*200 + 不足一打*20)\n",
        "print(\"總金額為\", 總金額)"
      ],
      "execution_count": 6,
      "outputs": [
        {
          "output_type": "stream",
          "text": [
            "請輸入購買罐數?3\n",
            "總金額為 60\n"
          ],
          "name": "stdout"
        }
      ]
    },
    {
      "cell_type": "code",
      "metadata": {
        "id": "_mvoVS_S2Pdg",
        "colab_type": "code",
        "colab": {
          "base_uri": "https://localhost:8080/",
          "height": 102
        },
        "outputId": "7e86afe7-5639-4efd-9559-64b991e7e10d"
      },
      "source": [
        "第一次期中考成績 = int(input(\"請輸入第一次期中考成績\"))\n",
        "第二次期中考成績 = int(input(\"請輸入第二次期中考成績\"))\n",
        "期末考成績 = int(input(\"請輸入期末考成績\"))\n",
        "總分數 = 第一次期中考成績 + 第二次期中考成績 + 期末考成績\n",
        "print(\"總分數為\",總分數)\n",
        "平均分數 = (第一次期中考成績 + 第二次期中考成績 + 期末考成績)//3\n",
        "print(\"平均分數為\",平均分數)"
      ],
      "execution_count": 7,
      "outputs": [
        {
          "output_type": "stream",
          "text": [
            "請輸入第一次期中考成績60\n",
            "請輸入第二次期中考成績87\n",
            "請輸入期末考成績70\n",
            "總分數為 217\n",
            "平均分數為 72\n"
          ],
          "name": "stdout"
        }
      ]
    },
    {
      "cell_type": "code",
      "metadata": {
        "id": "QZLmkYgq2QP_",
        "colab_type": "code",
        "colab": {
          "base_uri": "https://localhost:8080/",
          "height": 51
        },
        "outputId": "4b831e24-598c-49b6-f08b-fd8fedb0ef2e"
      },
      "source": [
        "#運算思維模式辨識\n",
        "#方法:餘數位置從0開始+商數運算子\n",
        "\n",
        "座號=int(input(\"請輸入您的座號?\")) #文字轉數字\n",
        "組別=(座號-1)//5 + 1\n",
        "print(\"組別為\",組別)"
      ],
      "execution_count": 8,
      "outputs": [
        {
          "output_type": "stream",
          "text": [
            "請輸入您的座號?73\n",
            "組別為 15\n"
          ],
          "name": "stdout"
        }
      ]
    }
  ]
}