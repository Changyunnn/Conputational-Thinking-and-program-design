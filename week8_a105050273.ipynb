{
  "nbformat": 4,
  "nbformat_minor": 0,
  "metadata": {
    "colab": {
      "name": "week8_a105050273.ipynb",
      "provenance": []
    },
    "kernelspec": {
      "name": "python3",
      "display_name": "Python 3"
    }
  },
  "cells": [
    {
      "cell_type": "code",
      "metadata": {
        "id": "sZG37U0z2qXO",
        "colab_type": "code",
        "colab": {
          "base_uri": "https://localhost:8080/",
          "height": 68
        },
        "outputId": "4271c3ec-8fea-4d67-c693-602e24417ce7"
      },
      "source": [
        "hours=input(\"Enter movie time hours:\")\n",
        "minutes=input(\"Enter movie time minutes:\")\n",
        "hours=int(hours)\n",
        "minutes=int(minutes)\n",
        "length=hours*60+minutes #數學運算\n",
        "print(\"Movie length is\",length)"
      ],
      "execution_count": 1,
      "outputs": [
        {
          "output_type": "stream",
          "text": [
            "Enter movie time hours:2\n",
            "Enter movie time minutes:13\n",
            "Movie length is 133\n"
          ],
          "name": "stdout"
        }
      ]
    },
    {
      "cell_type": "code",
      "metadata": {
        "id": "aueGAMSs2v5y",
        "colab_type": "code",
        "colab": {
          "base_uri": "https://localhost:8080/",
          "height": 136
        },
        "outputId": "eb67f672-724c-42b5-8547-c9256ea6da44"
      },
      "source": [
        "hours=input(\"Enter movie time hours:\") \n",
        "minutes=input(\"Enter movie time minutes:\")\n",
        "\n",
        "hours=int(hours)\n",
        "minutes=int(minutes)\n",
        "\n",
        "length=hours*60+minutes #數學運算\n",
        "print(hours,\"Hours\",minutes,\"Minutes\",\"Movie length is\",length,\"minutes\")\n",
        "\n",
        "#133分鐘轉成2小時13分鐘\n",
        "#133分鐘 2小時\n",
        "\n",
        "hours1=length / 60 #hours\n",
        "print(hours1)\n",
        "hours2=int(hours1)\n",
        "print(hours2)\n",
        "\n",
        "#133分鐘 13分鐘\n",
        "minutes1=(hours1 - hours2)* 60\n",
        "minutes2=round(minutes1) #四捨五入\n",
        "\n",
        "print(minutes2)\n",
        "print(length,\"Minutes equals\",hours2,\"Hours\",minutes2,\"Minutes\")"
      ],
      "execution_count": 2,
      "outputs": [
        {
          "output_type": "stream",
          "text": [
            "Enter movie time hours:2\n",
            "Enter movie time minutes:13\n",
            "2 Hours 13 Minutes Movie length is 133 minutes\n",
            "2.216666666666667\n",
            "2\n",
            "13\n",
            "133 Minutes equals 2 Hours 13 Minutes\n"
          ],
          "name": "stdout"
        }
      ]
    },
    {
      "cell_type": "code",
      "metadata": {
        "id": "3ZQ4u9CU2xo4",
        "colab_type": "code",
        "colab": {
          "base_uri": "https://localhost:8080/",
          "height": 119
        },
        "outputId": "9fa3f71d-bdaa-4ffa-b806-95de7d1540d2"
      },
      "source": [
        "hours=input(\"Enter movie time hours:\")\n",
        "minutes=input(\"Enter movie time minutes:\")\n",
        "\n",
        "hours=int(hours)\n",
        "minutes=int(minutes)\n",
        "\n",
        "length=hours*60+minutes #數學運算\n",
        "print(hours,\"Hours\",minutes,\"Minutes\",\"Movie length is\",length,\"minutes\")\n",
        "\n",
        "#133分鐘轉成2小時13分鐘\n",
        "#133分鐘 2小時\n",
        "hours1=length //60 #hours\n",
        "print(hours1)\n",
        "\n",
        "#133 13分鐘\n",
        "minutes1=length % 60 \n",
        "print(minutes1)\n",
        "\n",
        "print(length,\"Minutes equals\",hours1,\"Hours\",minutes1,\"Minutes\")"
      ],
      "execution_count": 3,
      "outputs": [
        {
          "output_type": "stream",
          "text": [
            "Enter movie time hours:2\n",
            "Enter movie time minutes:13\n",
            "2 Hours 13 Minutes Movie length is 133 minutes\n",
            "2\n",
            "13\n",
            "133 Minutes equals 2 Hours 13 Minutes\n"
          ],
          "name": "stdout"
        }
      ]
    }
  ]
}